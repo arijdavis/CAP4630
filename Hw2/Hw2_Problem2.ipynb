{
  "nbformat": 4,
  "nbformat_minor": 0,
  "metadata": {
    "colab": {
      "name": "Hw2_Problem2.ipynb",
      "provenance": [],
      "include_colab_link": true
    },
    "kernelspec": {
      "name": "python3",
      "display_name": "Python 3"
    }
  },
  "cells": [
    {
      "cell_type": "markdown",
      "metadata": {
        "id": "view-in-github",
        "colab_type": "text"
      },
      "source": [
        "<a href=\"https://colab.research.google.com/github/arijdavis/CAP4630/blob/master/Hw2/Hw2_Problem2.ipynb\" target=\"_parent\"><img src=\"https://colab.research.google.com/assets/colab-badge.svg\" alt=\"Open In Colab\"/></a>"
      ]
    },
    {
      "cell_type": "markdown",
      "metadata": {
        "id": "rt44vyY1xW9b",
        "colab_type": "text"
      },
      "source": [
        "# MNIST fashion data set"
      ]
    },
    {
      "cell_type": "markdown",
      "metadata": {
        "id": "l34GNy7tyNks",
        "colab_type": "text"
      },
      "source": [
        "## Loading the MNIST fashion data set"
      ]
    },
    {
      "cell_type": "code",
      "metadata": {
        "id": "FSJyddqGexl5",
        "colab_type": "code",
        "outputId": "3e535979-6db0-476c-c204-a46ebb58d991",
        "colab": {
          "base_uri": "https://localhost:8080/",
          "height": 63
        }
      },
      "source": [
        "import tensorflow as tf\n",
        "from tensorflow import keras\n",
        "\n",
        "fashion_mnist = keras.datasets.fashion_mnist\n",
        "\n",
        "(train_images, train_labels), (test_images, test_labels) = fashion_mnist.load_data()"
      ],
      "execution_count": 0,
      "outputs": [
        {
          "output_type": "display_data",
          "data": {
            "text/html": [
              "<p style=\"color: red;\">\n",
              "The default version of TensorFlow in Colab will soon switch to TensorFlow 2.x.<br>\n",
              "We recommend you <a href=\"https://www.tensorflow.org/guide/migrate\" target=\"_blank\">upgrade</a> now \n",
              "or ensure your notebook will continue to use TensorFlow 1.x via the <code>%tensorflow_version 1.x</code> magic:\n",
              "<a href=\"https://colab.research.google.com/notebooks/tensorflow_version.ipynb\" target=\"_blank\">more info</a>.</p>\n"
            ],
            "text/plain": [
              "<IPython.core.display.HTML object>"
            ]
          },
          "metadata": {
            "tags": []
          }
        }
      ]
    },
    {
      "cell_type": "markdown",
      "metadata": {
        "id": "XuWVQX3CySIC",
        "colab_type": "text"
      },
      "source": [
        "## Exploring the format of the MNIST fashion data set"
      ]
    },
    {
      "cell_type": "code",
      "metadata": {
        "id": "HKyztEf4fkBg",
        "colab_type": "code",
        "outputId": "1ce0fff0-ce48-4ef4-8056-1d04f1c53b44",
        "colab": {
          "base_uri": "https://localhost:8080/"
        }
      },
      "source": [
        "train_images.shape"
      ],
      "execution_count": 0,
      "outputs": [
        {
          "output_type": "execute_result",
          "data": {
            "text/plain": [
              "(60000, 28, 28)"
            ]
          },
          "metadata": {
            "tags": []
          },
          "execution_count": 2
        }
      ]
    },
    {
      "cell_type": "code",
      "metadata": {
        "id": "vA81OpzFyjyS",
        "colab_type": "code",
        "outputId": "960ffc59-abd5-4433-8bca-bc8150f4735e",
        "colab": {
          "base_uri": "https://localhost:8080/"
        }
      },
      "source": [
        "len(train_images)"
      ],
      "execution_count": 0,
      "outputs": [
        {
          "output_type": "execute_result",
          "data": {
            "text/plain": [
              "60000"
            ]
          },
          "metadata": {
            "tags": []
          },
          "execution_count": 3
        }
      ]
    },
    {
      "cell_type": "code",
      "metadata": {
        "id": "w85BC1AXxwds",
        "colab_type": "code",
        "outputId": "c08998ea-4d88-478b-977f-633083ef5ee6",
        "colab": {
          "base_uri": "https://localhost:8080/"
        }
      },
      "source": [
        "train_images.ndim"
      ],
      "execution_count": 0,
      "outputs": [
        {
          "output_type": "execute_result",
          "data": {
            "text/plain": [
              "3"
            ]
          },
          "metadata": {
            "tags": []
          },
          "execution_count": 4
        }
      ]
    },
    {
      "cell_type": "code",
      "metadata": {
        "id": "1sHFiZBFxnrB",
        "colab_type": "code",
        "outputId": "37b8b9ed-fb34-4a64-cecf-b41e6e0ba9a5",
        "colab": {
          "base_uri": "https://localhost:8080/"
        }
      },
      "source": [
        "train_images.dtype"
      ],
      "execution_count": 0,
      "outputs": [
        {
          "output_type": "execute_result",
          "data": {
            "text/plain": [
              "dtype('uint8')"
            ]
          },
          "metadata": {
            "tags": []
          },
          "execution_count": 5
        }
      ]
    },
    {
      "cell_type": "code",
      "metadata": {
        "id": "euQWeEkpyCL5",
        "colab_type": "code",
        "outputId": "f9b0a3e6-9a0e-4f0d-baf6-2bdd4a27516f",
        "colab": {
          "base_uri": "https://localhost:8080/"
        }
      },
      "source": [
        "train_labels"
      ],
      "execution_count": 0,
      "outputs": [
        {
          "output_type": "execute_result",
          "data": {
            "text/plain": [
              "array([9, 0, 0, ..., 3, 0, 5], dtype=uint8)"
            ]
          },
          "metadata": {
            "tags": []
          },
          "execution_count": 6
        }
      ]
    },
    {
      "cell_type": "code",
      "metadata": {
        "id": "jqv0aUL-gGU_",
        "colab_type": "code",
        "outputId": "eaf0ab07-65f2-495c-bb1f-9bff53120107",
        "colab": {
          "base_uri": "https://localhost:8080/"
        }
      },
      "source": [
        "len(train_labels)"
      ],
      "execution_count": 0,
      "outputs": [
        {
          "output_type": "execute_result",
          "data": {
            "text/plain": [
              "60000"
            ]
          },
          "metadata": {
            "tags": []
          },
          "execution_count": 7
        }
      ]
    },
    {
      "cell_type": "code",
      "metadata": {
        "id": "aa2r6ZRcO7XV",
        "colab_type": "code",
        "colab": {}
      },
      "source": [
        "class_names = ['T-shirt/top', 'Trouser', 'Pullover', 'Dress', 'Coat',\n",
        "               'Sandal', 'Shirt', 'Sneaker', 'Bag', 'Ankle boot']"
      ],
      "execution_count": 0,
      "outputs": []
    },
    {
      "cell_type": "markdown",
      "metadata": {
        "id": "8X1L-35zoSZl",
        "colab_type": "text"
      },
      "source": [
        ""
      ]
    },
    {
      "cell_type": "markdown",
      "metadata": {
        "id": "dmQ2siA7ywPx",
        "colab_type": "text"
      },
      "source": [
        "## Displaying some MNIST fashion items"
      ]
    },
    {
      "cell_type": "code",
      "metadata": {
        "id": "uSj4HIhWzBxl",
        "colab_type": "code",
        "colab": {}
      },
      "source": [
        "import matplotlib.pyplot as plt\n",
        "import numpy as np"
      ],
      "execution_count": 0,
      "outputs": []
    },
    {
      "cell_type": "code",
      "metadata": {
        "id": "1Gdt3obzgQaY",
        "colab_type": "code",
        "outputId": "3c71de9f-37a2-438e-ccd6-0d2772906c26",
        "colab": {
          "base_uri": "https://localhost:8080/",
          "height": 589
        }
      },
      "source": [
        "plt.figure(figsize=(10,10))\n",
        "indices = np.random.choice(np.arange(60000), size=25, replace=False)\n",
        "for i in range(25):\n",
        "    plt.subplot(5,5,i+1)\n",
        "    plt.xticks([])\n",
        "    plt.yticks([])\n",
        "    plt.grid(False)\n",
        "    plt.imshow(train_images[i], cmap=plt.cm.binary)\n",
        "    plt.xlabel(class_names[train_labels[i]])\n",
        "plt.show()"
      ],
      "execution_count": 0,
      "outputs": [
        {
          "output_type": "display_data",
          "data": {
            "image/png": "[encoded data removed]",
            "text/plain": [
              "<Figure size 720x720 with 25 Axes>"
            ]
          },
          "metadata": {
            "tags": []
          }
        }
      ]
    },
    {
      "cell_type": "markdown",
      "metadata": {
        "id": "Rcch4U30N53_",
        "colab_type": "text"
      },
      "source": [
        "The data must be preprocessed before training the network. If you inspect the first image in the training set, you will see that the pixel values fall in the range of 0 to 255:"
      ]
    },
    {
      "cell_type": "code",
      "metadata": {
        "id": "luvWbddTMtTX",
        "colab_type": "code",
        "outputId": "9a384e15-9fe4-4382-e4ef-9a329a1f0168",
        "colab": {
          "base_uri": "https://localhost:8080/",
          "height": 265
        }
      },
      "source": [
        "plt.figure()\n",
        "plt.imshow(train_images[0])\n",
        "plt.colorbar()\n",
        "plt.grid(False)\n",
        "plt.show()"
      ],
      "execution_count": 0,
      "outputs": [
        {
          "output_type": "display_data",
          "data": {
            "image/png": "[encoded data removed]",
            "text/plain": [
              "<Figure size 432x288 with 2 Axes>"
            ]
          },
          "metadata": {
            "tags": []
          }
        }
      ]
    },
    {
      "cell_type": "markdown",
      "metadata": {
        "id": "JC5iBT_0OCSl",
        "colab_type": "text"
      },
      "source": [
        "## Preprocess the data"
      ]
    },
    {
      "cell_type": "code",
      "metadata": {
        "id": "inugSPsZNytV",
        "colab_type": "code",
        "colab": {}
      },
      "source": [
        "train_images = train_images / 255.0\n",
        "test_images = test_images / 255.0"
      ],
      "execution_count": 0,
      "outputs": []
    },
    {
      "cell_type": "markdown",
      "metadata": {
        "id": "OA975wHjOJI-",
        "colab_type": "text"
      },
      "source": [
        "## Build the model"
      ]
    },
    {
      "cell_type": "code",
      "metadata": {
        "id": "ZX6SGTpMOIKN",
        "colab_type": "code",
        "outputId": "9aa22283-2efd-43a4-84cd-a8b2eb55e2df",
        "colab": {
          "base_uri": "https://localhost:8080/",
          "height": 785
        }
      },
      "source": [
        "# set up the layers\n",
        "\n",
        "model = keras.Sequential([\n",
        "    keras.layers.Flatten(input_shape=(28, 28)),\n",
        "    keras.layers.Dense(128, activation=tf.nn.relu), \n",
        "    keras.layers.Dense(10, activation=tf.nn.softmax)\n",
        "])\n",
        "\n",
        "# compile the model\n",
        "\n",
        "model.compile(optimizer='adam',\n",
        "             loss='sparse_categorical_crossentropy',\n",
        "             metrics=['accuracy'])\n",
        "\n",
        "# train the model\n",
        "epochs = 20\n",
        "history = model.fit(train_images, \n",
        "                      train_labels, \n",
        "                      epochs=epochs,  \n",
        "                      validation_data=(test_images, test_labels))"
      ],
      "execution_count": 0,
      "outputs": [
        {
          "output_type": "stream",
          "text": [
            "WARNING:tensorflow:From /usr/local/lib/python3.6/dist-packages/tensorflow_core/python/ops/resource_variable_ops.py:1630: calling BaseResourceVariable.__init__ (from tensorflow.python.ops.resource_variable_ops) with constraint is deprecated and will be removed in a future version.\n",
            "Instructions for updating:\n",
            "If using Keras pass *_constraint arguments to layers.\n",
            "Train on 60000 samples, validate on 10000 samples\n",
            "Epoch 1/20\n",
            "60000/60000 [==============================] - 4s 70us/sample - loss: 0.5024 - acc: 0.8223 - val_loss: 0.4364 - val_acc: 0.8455\n",
            "Epoch 2/20\n",
            "60000/60000 [==============================] - 4s 68us/sample - loss: 0.3771 - acc: 0.8650 - val_loss: 0.3911 - val_acc: 0.8587\n",
            "Epoch 3/20\n",
            "60000/60000 [==============================] - 4s 67us/sample - loss: 0.3386 - acc: 0.8758 - val_loss: 0.4216 - val_acc: 0.8427\n",
            "Epoch 4/20\n",
            "60000/60000 [==============================] - 4s 67us/sample - loss: 0.3159 - acc: 0.8840 - val_loss: 0.3695 - val_acc: 0.8669\n",
            "Epoch 5/20\n",
            "60000/60000 [==============================] - 4s 66us/sample - loss: 0.2965 - acc: 0.8898 - val_loss: 0.3752 - val_acc: 0.8631\n",
            "Epoch 6/20\n",
            "60000/60000 [==============================] - 4s 65us/sample - loss: 0.2820 - acc: 0.8952 - val_loss: 0.3340 - val_acc: 0.8800\n",
            "Epoch 7/20\n",
            "60000/60000 [==============================] - 4s 70us/sample - loss: 0.2699 - acc: 0.8996 - val_loss: 0.3287 - val_acc: 0.8847\n",
            "Epoch 8/20\n",
            "60000/60000 [==============================] - 4s 71us/sample - loss: 0.2595 - acc: 0.9030 - val_loss: 0.3338 - val_acc: 0.8822\n",
            "Epoch 9/20\n",
            "60000/60000 [==============================] - 4s 71us/sample - loss: 0.2485 - acc: 0.9067 - val_loss: 0.3386 - val_acc: 0.8788\n",
            "Epoch 10/20\n",
            "60000/60000 [==============================] - 4s 70us/sample - loss: 0.2412 - acc: 0.9094 - val_loss: 0.3244 - val_acc: 0.8882\n",
            "Epoch 11/20\n",
            "60000/60000 [==============================] - 4s 67us/sample - loss: 0.2316 - acc: 0.9124 - val_loss: 0.3421 - val_acc: 0.8850\n",
            "Epoch 12/20\n",
            "60000/60000 [==============================] - 4s 67us/sample - loss: 0.2264 - acc: 0.9157 - val_loss: 0.3382 - val_acc: 0.8822\n",
            "Epoch 13/20\n",
            "60000/60000 [==============================] - 4s 67us/sample - loss: 0.2179 - acc: 0.9187 - val_loss: 0.3626 - val_acc: 0.8797\n",
            "Epoch 14/20\n",
            "60000/60000 [==============================] - 4s 66us/sample - loss: 0.2119 - acc: 0.9203 - val_loss: 0.3350 - val_acc: 0.8832\n",
            "Epoch 15/20\n",
            "60000/60000 [==============================] - 4s 66us/sample - loss: 0.2043 - acc: 0.9231 - val_loss: 0.3284 - val_acc: 0.8897\n",
            "Epoch 16/20\n",
            "60000/60000 [==============================] - 4s 66us/sample - loss: 0.1999 - acc: 0.9257 - val_loss: 0.3753 - val_acc: 0.8751\n",
            "Epoch 17/20\n",
            "60000/60000 [==============================] - 4s 66us/sample - loss: 0.1940 - acc: 0.9271 - val_loss: 0.3491 - val_acc: 0.8884\n",
            "Epoch 18/20\n",
            "60000/60000 [==============================] - 4s 65us/sample - loss: 0.1895 - acc: 0.9287 - val_loss: 0.3443 - val_acc: 0.8898\n",
            "Epoch 19/20\n",
            "60000/60000 [==============================] - 4s 70us/sample - loss: 0.1849 - acc: 0.9301 - val_loss: 0.3521 - val_acc: 0.8860\n",
            "Epoch 20/20\n",
            "60000/60000 [==============================] - 4s 70us/sample - loss: 0.1796 - acc: 0.9319 - val_loss: 0.3560 - val_acc: 0.8875\n"
          ],
          "name": "stdout"
        }
      ]
    },
    {
      "cell_type": "markdown",
      "metadata": {
        "id": "mORb9IwPP7oE",
        "colab_type": "text"
      },
      "source": [
        "## Evaluate accuracy"
      ]
    },
    {
      "cell_type": "code",
      "metadata": {
        "id": "rlKIF6ijOkiE",
        "colab_type": "code",
        "outputId": "09fde4ae-5cf3-499c-8228-aee45d1554f4",
        "colab": {
          "base_uri": "https://localhost:8080/",
          "height": 51
        }
      },
      "source": [
        "test_loss, test_acc = model.evaluate(test_images, test_labels)\n",
        "\n",
        "print('Test accuracy:', test_acc)"
      ],
      "execution_count": 0,
      "outputs": [
        {
          "output_type": "stream",
          "text": [
            "10000/10000 [==============================] - 0s 29us/sample - loss: 0.3560 - acc: 0.8875\n",
            "Test accuracy: 0.8875\n"
          ],
          "name": "stdout"
        }
      ]
    },
    {
      "cell_type": "markdown",
      "metadata": {
        "id": "GqbGdV6oXEyP",
        "colab_type": "text"
      },
      "source": [
        "## Training/test loss/accuracy during training"
      ]
    },
    {
      "cell_type": "code",
      "metadata": {
        "id": "3b5OCE5YTrEc",
        "colab_type": "code",
        "colab": {}
      },
      "source": [
        "history_dict = history.history\n",
        "loss_values = history_dict['loss']\n",
        "test_loss_values = history_dict['val_loss']\n",
        "epochs_range = range(1, epochs+1)"
      ],
      "execution_count": 0,
      "outputs": []
    },
    {
      "cell_type": "code",
      "metadata": {
        "id": "y98AOblYT3Pk",
        "colab_type": "code",
        "outputId": "85a36185-4bcc-4580-d2af-49d967663ad1",
        "colab": {
          "base_uri": "https://localhost:8080/",
          "height": 295
        }
      },
      "source": [
        "plt.plot(epochs_range, loss_values, 'bo', label='Training loss')\n",
        "plt.plot(epochs_range, test_loss_values, 'ro', label='Test loss')\n",
        "plt.title('Training and test loss')\n",
        "plt.xlabel('Epochs')\n",
        "plt.ylabel('Loss')\n",
        "plt.legend()\n",
        "plt.show()"
      ],
      "execution_count": 0,
      "outputs": [
        {
          "output_type": "display_data",
          "data": {
            "image/png": "[encoded data removed]",
            "text/plain": [
              "<Figure size 432x288 with 1 Axes>"
            ]
          },
          "metadata": {
            "tags": []
          }
        }
      ]
    },
    {
      "cell_type": "code",
      "metadata": {
        "id": "790AkDaTWuZU",
        "colab_type": "code",
        "colab": {}
      },
      "source": [
        "acc_values = history_dict['acc']\n",
        "test_acc_values = history_dict['val_acc']"
      ],
      "execution_count": 0,
      "outputs": []
    },
    {
      "cell_type": "code",
      "metadata": {
        "id": "7BkIfPQ4W39E",
        "colab_type": "code",
        "outputId": "c7ff5198-5f51-40f0-d45d-0020af334d53",
        "colab": {
          "base_uri": "https://localhost:8080/",
          "height": 295
        }
      },
      "source": [
        "plt.plot(epochs_range, acc_values, 'bo', label='Training accuracy')\n",
        "plt.plot(epochs_range, test_acc_values, 'ro', label='Test accuracy')\n",
        "plt.title('Training and test accuracy')\n",
        "plt.xlabel('Epochs')\n",
        "plt.ylabel('Accuracy')\n",
        "plt.legend()\n",
        "plt.show()"
      ],
      "execution_count": 0,
      "outputs": [
        {
          "output_type": "display_data",
          "data": {
            "image/png": "[encoded data removed]",
            "text/plain": [
              "<Figure size 432x288 with 1 Axes>"
            ]
          },
          "metadata": {
            "tags": []
          }
        }
      ]
    },
    {
      "cell_type": "markdown",
      "metadata": {
        "id": "2zpnxENIWj4N",
        "colab_type": "text"
      },
      "source": [
        "## Make predictions"
      ]
    },
    {
      "cell_type": "code",
      "metadata": {
        "id": "EMJTp1IDQIXE",
        "colab_type": "code",
        "colab": {}
      },
      "source": [
        "predictions = model.predict(test_images)"
      ],
      "execution_count": 0,
      "outputs": []
    },
    {
      "cell_type": "code",
      "metadata": {
        "id": "AoYG5h-ZWqzU",
        "colab_type": "code",
        "outputId": "647955f1-e479-4433-b805-08eda19a25e7",
        "colab": {
          "base_uri": "https://localhost:8080/"
        }
      },
      "source": [
        "index = 0\n",
        "predictions[index]"
      ],
      "execution_count": 0,
      "outputs": [
        {
          "output_type": "execute_result",
          "data": {
            "text/plain": [
              "array([4.1182495e-11, 6.5083850e-14, 3.9689061e-11, 1.8729621e-12,\n",
              "       2.0693152e-13, 5.1235889e-05, 5.2062514e-08, 4.4544920e-02,\n",
              "       6.4616893e-07, 9.5540309e-01], dtype=float32)"
            ]
          },
          "metadata": {
            "tags": []
          },
          "execution_count": 20
        }
      ]
    },
    {
      "cell_type": "code",
      "metadata": {
        "id": "IU2elMC0Wsju",
        "colab_type": "code",
        "outputId": "45bc46a0-33fd-4eea-f7a4-29f6dea763b4",
        "colab": {
          "base_uri": "https://localhost:8080/"
        }
      },
      "source": [
        "np.argmax(predictions[index])"
      ],
      "execution_count": 0,
      "outputs": [
        {
          "output_type": "execute_result",
          "data": {
            "text/plain": [
              "9"
            ]
          },
          "metadata": {
            "tags": []
          },
          "execution_count": 21
        }
      ]
    },
    {
      "cell_type": "code",
      "metadata": {
        "id": "ohfgh9IsWx48",
        "colab_type": "code",
        "outputId": "37315db6-3cf2-4539-aac3-7b68a8f84c83",
        "colab": {
          "base_uri": "https://localhost:8080/"
        }
      },
      "source": [
        "test_labels[index]"
      ],
      "execution_count": 0,
      "outputs": [
        {
          "output_type": "execute_result",
          "data": {
            "text/plain": [
              "9"
            ]
          },
          "metadata": {
            "tags": []
          },
          "execution_count": 22
        }
      ]
    },
    {
      "cell_type": "code",
      "metadata": {
        "id": "5z8UXzYHW0NV",
        "colab_type": "code",
        "colab": {}
      },
      "source": [
        "def plot_image(i, predictions_array, true_label, img):\n",
        "  predictions_array, true_label, img = predictions_array[i], true_label[i], img[i]\n",
        "  plt.grid(False)\n",
        "  plt.xticks([])\n",
        "  plt.yticks([])\n",
        "\n",
        "  plt.imshow(img, cmap=plt.cm.binary)\n",
        "\n",
        "  predicted_label = np.argmax(predictions_array)\n",
        "  if predicted_label == true_label:\n",
        "    color = 'blue'\n",
        "  else:\n",
        "    color = 'red'\n",
        "\n",
        "  plt.xlabel(\"{} {:2.0f}% ({})\".format(class_names[predicted_label],\n",
        "                                100*np.max(predictions_array),\n",
        "                                class_names[true_label]),\n",
        "                                color=color)\n",
        "\n",
        "def plot_value_array(i, predictions_array, true_label):\n",
        "  predictions_array, true_label = predictions_array[i], true_label[i]\n",
        "  plt.grid(False)\n",
        "  plt.xticks([])\n",
        "  plt.yticks([])\n",
        "  thisplot = plt.bar(range(10), predictions_array, color=\"#777777\")\n",
        "  plt.ylim([0, 1])\n",
        "  predicted_label = np.argmax(predictions_array)\n",
        "\n",
        "  thisplot[predicted_label].set_color('red')\n",
        "  thisplot[true_label].set_color('blue')"
      ],
      "execution_count": 0,
      "outputs": []
    },
    {
      "cell_type": "code",
      "metadata": {
        "id": "zt5AUKVlW7gk",
        "colab_type": "code",
        "outputId": "6e2f149b-3ec8-4bed-bedd-e03deb0fc4a3",
        "colab": {
          "base_uri": "https://localhost:8080/"
        }
      },
      "source": [
        "index = 0\n",
        "plt.figure(figsize=(6,3))\n",
        "plt.subplot(1,2,1)\n",
        "plot_image(index, predictions, test_labels, test_images)\n",
        "plt.subplot(1,2,2)\n",
        "plot_value_array(index, predictions,  test_labels)\n"
      ],
      "execution_count": 0,
      "outputs": [
        {
          "output_type": "display_data",
          "data": {
            "image/png": "[encoded data removed]",
            "text/plain": [
              "<Figure size 432x216 with 2 Axes>"
            ]
          },
          "metadata": {
            "tags": []
          }
        }
      ]
    },
    {
      "cell_type": "code",
      "metadata": {
        "id": "tD61VS-IXHk8",
        "colab_type": "code",
        "outputId": "4c90d5d4-a822-47c9-a1f1-9592a2447076",
        "colab": {
          "base_uri": "https://localhost:8080/"
        }
      },
      "source": [
        "# Plot the first X test images, their predicted label, and the true label\n",
        "# Color correct predictions in blue, incorrect predictions in red\n",
        "num_rows = 5\n",
        "num_cols = 3\n",
        "num_images = num_rows*num_cols\n",
        "plt.figure(figsize=(2*2*num_cols, 2*num_rows))\n",
        "for i in range(num_images):\n",
        "  plt.subplot(num_rows, 2*num_cols, 2*i+1)\n",
        "  plot_image(i, predictions, test_labels, test_images)\n",
        "  plt.subplot(num_rows, 2*num_cols, 2*i+2)\n",
        "  plot_value_array(i, predictions, test_labels)\n"
      ],
      "execution_count": 0,
      "outputs": [
        {
          "output_type": "display_data",
          "data": {
            "image/png": "[encoded data removed]",
            "text/plain": [
              "<Figure size 864x720 with 30 Axes>"
            ]
          },
          "metadata": {
            "tags": []
          }
        }
      ]
    },
    {
      "cell_type": "markdown",
      "metadata": {
        "id": "MX2EqMuqOskz",
        "colab_type": "text"
      },
      "source": [
        "## Make prediction about a single image"
      ]
    },
    {
      "cell_type": "markdown",
      "metadata": {
        "id": "0INV5gqRoX7T",
        "colab_type": "text"
      },
      "source": [
        ""
      ]
    },
    {
      "cell_type": "code",
      "metadata": {
        "id": "pHhfS4T3XQs8",
        "colab_type": "code",
        "outputId": "d5559b5d-bd7b-4f63-9132-d08582ca4f9c",
        "colab": {
          "base_uri": "https://localhost:8080/"
        }
      },
      "source": [
        "index = 0\n",
        "test_image = test_images[index]\n",
        "print(test_image.shape)"
      ],
      "execution_count": 0,
      "outputs": [
        {
          "output_type": "stream",
          "text": [
            "(28, 28)\n"
          ],
          "name": "stdout"
        }
      ]
    },
    {
      "cell_type": "code",
      "metadata": {
        "id": "owI75SpDO6s7",
        "colab_type": "code",
        "outputId": "12ef366f-c5ac-4254-e77a-9060d42bf52e",
        "colab": {
          "base_uri": "https://localhost:8080/"
        }
      },
      "source": [
        "# Add the image to a batch where it's the only member\n",
        "test_image_single = (np.expand_dims(test_image, 0))\n",
        "print(test_image_single.shape)"
      ],
      "execution_count": 0,
      "outputs": [
        {
          "output_type": "stream",
          "text": [
            "(1, 28, 28)\n"
          ],
          "name": "stdout"
        }
      ]
    },
    {
      "cell_type": "code",
      "metadata": {
        "id": "zTz4dMqjQRw0",
        "colab_type": "code",
        "outputId": "03905bd8-9473-46ed-a43f-507489767159",
        "colab": {
          "base_uri": "https://localhost:8080/"
        }
      },
      "source": [
        "predictions_single = model.predict(test_image_single)\n",
        "print(predictions_single)"
      ],
      "execution_count": 0,
      "outputs": [
        {
          "output_type": "stream",
          "text": [
            "[[4.1182419e-11 6.5083721e-14 3.9688759e-11 1.8729621e-12 2.0693075e-13\n",
            "  5.1235642e-05 5.2062315e-08 4.4544954e-02 6.4616580e-07 9.5540309e-01]]\n"
          ],
          "name": "stdout"
        }
      ]
    },
    {
      "cell_type": "code",
      "metadata": {
        "id": "9e2oW3-iQgjU",
        "colab_type": "code",
        "outputId": "97e59714-748a-4c35-8b14-ff69a742e7c6",
        "colab": {
          "base_uri": "https://localhost:8080/"
        }
      },
      "source": [
        "plot_value_array(0, predictions_single, test_labels)\n",
        "_ = plt.xticks(range(10), class_names, rotation=45)"
      ],
      "execution_count": 0,
      "outputs": [
        {
          "output_type": "display_data",
          "data": {
            "image/png": "[encoded data removed]",
            "text/plain": [
              "<Figure size 432x288 with 1 Axes>"
            ]
          },
          "metadata": {
            "tags": []
          }
        }
      ]
    },
    {
      "cell_type": "code",
      "metadata": {
        "id": "DnB5hIuwQ51U",
        "colab_type": "code",
        "outputId": "941ebb66-3c88-4187-f5e9-578015aa8365",
        "colab": {
          "base_uri": "https://localhost:8080/"
        }
      },
      "source": [
        "plt.imshow(test_image, cmap=plt.cm.binary)\n",
        "plt.grid(None)"
      ],
      "execution_count": 0,
      "outputs": [
        {
          "output_type": "display_data",
          "data": {
            "image/png": "[encoded data removed]",
            "text/plain": [
              "<Figure size 432x288 with 1 Axes>"
            ]
          },
          "metadata": {
            "tags": []
          }
        }
      ]
    },
    {
      "cell_type": "code",
      "metadata": {
        "id": "PHmmIC94RoTs",
        "colab_type": "code",
        "outputId": "49a63029-798e-4551-814f-dfc4d235db2c",
        "colab": {
          "base_uri": "https://localhost:8080/"
        }
      },
      "source": [
        "np.argmax(predictions_single[0])"
      ],
      "execution_count": 0,
      "outputs": [
        {
          "output_type": "execute_result",
          "data": {
            "text/plain": [
              "9"
            ]
          },
          "metadata": {
            "tags": []
          },
          "execution_count": 31
        }
      ]
    },
    {
      "cell_type": "code",
      "metadata": {
        "id": "PS_usZ3vTCDs",
        "colab_type": "code",
        "outputId": "b7c42dd9-9b76-449b-fc04-96e01ef8c79c",
        "colab": {
          "base_uri": "https://localhost:8080/"
        }
      },
      "source": [
        "test_labels[index]"
      ],
      "execution_count": 0,
      "outputs": [
        {
          "output_type": "execute_result",
          "data": {
            "text/plain": [
              "9"
            ]
          },
          "metadata": {
            "tags": []
          },
          "execution_count": 32
        }
      ]
    },
    {
      "cell_type": "code",
      "metadata": {
        "id": "XLZp0UpVTFJU",
        "colab_type": "code",
        "colab": {}
      },
      "source": [
        ""
      ],
      "execution_count": 0,
      "outputs": []
    },
    {
      "cell_type": "markdown",
      "metadata": {
        "id": "9pfFiT4VpUNM",
        "colab_type": "text"
      },
      "source": [
        "# Hw2 Example of Underfitting"
      ]
    },
    {
      "cell_type": "markdown",
      "metadata": {
        "id": "3XDAJHfzt5MU",
        "colab_type": "text"
      },
      "source": [
        "Build the Model"
      ]
    },
    {
      "cell_type": "code",
      "metadata": {
        "id": "_3DB9HP1trOC",
        "colab_type": "code",
        "outputId": "33b82dbb-5eab-4ee6-ef56-0e74d30c53ff",
        "colab": {
          "base_uri": "https://localhost:8080/",
          "height": 714
        }
      },
      "source": [
        "# set up the model to underfit with too many layers that are unable to learn enough patterns\n",
        "\n",
        "model_u = keras.Sequential([\n",
        "    keras.layers.Flatten(input_shape=(28, 28)),\n",
        "    keras.layers.Dense(128, activation=tf.nn.relu), \n",
        "    keras.layers.Dropout(0.9),\n",
        "    keras.layers.Dense(10, activation=tf.nn.softmax)\n",
        "])\n",
        "\n",
        "# compile the model\n",
        "\n",
        "model_u.compile(optimizer='adam',\n",
        "             loss='sparse_categorical_crossentropy',\n",
        "             metrics=['accuracy'])\n",
        "\n",
        "# train the model\n",
        "epochs = 20\n",
        "history = model_u.fit(train_images, \n",
        "                      train_labels, \n",
        "                      epochs=epochs,  \n",
        "                      validation_data=(test_images, test_labels))"
      ],
      "execution_count": 0,
      "outputs": [
        {
          "output_type": "stream",
          "text": [
            "Train on 60000 samples, validate on 10000 samples\n",
            "Epoch 1/20\n",
            "60000/60000 [==============================] - 5s 86us/sample - loss: 1.4105 - acc: 0.4489 - val_loss: 0.7028 - val_acc: 0.7301\n",
            "Epoch 2/20\n",
            "60000/60000 [==============================] - 5s 80us/sample - loss: 1.1698 - acc: 0.5233 - val_loss: 0.6509 - val_acc: 0.7736\n",
            "Epoch 3/20\n",
            "60000/60000 [==============================] - 5s 79us/sample - loss: 1.1233 - acc: 0.5452 - val_loss: 0.6427 - val_acc: 0.7674\n",
            "Epoch 4/20\n",
            "60000/60000 [==============================] - 5s 81us/sample - loss: 1.0912 - acc: 0.5583 - val_loss: 0.6206 - val_acc: 0.7402\n",
            "Epoch 5/20\n",
            "60000/60000 [==============================] - 5s 78us/sample - loss: 1.0706 - acc: 0.5667 - val_loss: 0.6105 - val_acc: 0.7955\n",
            "Epoch 6/20\n",
            "60000/60000 [==============================] - 5s 78us/sample - loss: 1.0646 - acc: 0.5667 - val_loss: 0.5902 - val_acc: 0.7908\n",
            "Epoch 7/20\n",
            "60000/60000 [==============================] - 5s 79us/sample - loss: 1.0512 - acc: 0.5741 - val_loss: 0.5937 - val_acc: 0.7971\n",
            "Epoch 8/20\n",
            "60000/60000 [==============================] - 5s 80us/sample - loss: 1.0466 - acc: 0.5787 - val_loss: 0.5856 - val_acc: 0.7961\n",
            "Epoch 9/20\n",
            "60000/60000 [==============================] - 5s 80us/sample - loss: 1.0430 - acc: 0.5807 - val_loss: 0.5732 - val_acc: 0.8068\n",
            "Epoch 10/20\n",
            "60000/60000 [==============================] - 5s 78us/sample - loss: 1.0263 - acc: 0.5863 - val_loss: 0.5917 - val_acc: 0.8141\n",
            "Epoch 11/20\n",
            "60000/60000 [==============================] - 5s 80us/sample - loss: 1.0257 - acc: 0.5903 - val_loss: 0.5807 - val_acc: 0.8096\n",
            "Epoch 12/20\n",
            "60000/60000 [==============================] - 5s 80us/sample - loss: 1.0235 - acc: 0.5905 - val_loss: 0.5865 - val_acc: 0.8079\n",
            "Epoch 13/20\n",
            "60000/60000 [==============================] - 5s 80us/sample - loss: 1.0125 - acc: 0.5964 - val_loss: 0.5555 - val_acc: 0.8129\n",
            "Epoch 14/20\n",
            "60000/60000 [==============================] - 5s 79us/sample - loss: 1.0169 - acc: 0.5947 - val_loss: 0.5649 - val_acc: 0.8120\n",
            "Epoch 15/20\n",
            "60000/60000 [==============================] - 5s 79us/sample - loss: 1.0057 - acc: 0.5993 - val_loss: 0.5564 - val_acc: 0.8167\n",
            "Epoch 16/20\n",
            "60000/60000 [==============================] - 5s 80us/sample - loss: 1.0060 - acc: 0.5986 - val_loss: 0.5696 - val_acc: 0.8128\n",
            "Epoch 17/20\n",
            "60000/60000 [==============================] - 5s 81us/sample - loss: 1.0081 - acc: 0.5963 - val_loss: 0.5598 - val_acc: 0.8106\n",
            "Epoch 18/20\n",
            "60000/60000 [==============================] - 5s 78us/sample - loss: 0.9932 - acc: 0.6055 - val_loss: 0.5652 - val_acc: 0.8142\n",
            "Epoch 19/20\n",
            "60000/60000 [==============================] - 5s 81us/sample - loss: 0.9949 - acc: 0.6032 - val_loss: 0.5589 - val_acc: 0.8196\n",
            "Epoch 20/20\n",
            "60000/60000 [==============================] - 5s 81us/sample - loss: 0.9958 - acc: 0.6047 - val_loss: 0.5564 - val_acc: 0.8209\n"
          ],
          "name": "stdout"
        }
      ]
    },
    {
      "cell_type": "markdown",
      "metadata": {
        "id": "wI_OKsJOt7Pr",
        "colab_type": "text"
      },
      "source": [
        "Evaluate Accuracy"
      ]
    },
    {
      "cell_type": "code",
      "metadata": {
        "id": "t2a8SBCht0mr",
        "colab_type": "code",
        "outputId": "96ae7560-ea6e-4409-b94b-7294122b648f",
        "colab": {
          "base_uri": "https://localhost:8080/",
          "height": 51
        }
      },
      "source": [
        "test_loss, test_acc = model_u.evaluate(test_images, test_labels)\n",
        "\n",
        "print('Test accuracy:', test_acc) # high test loss and unreliable predictions"
      ],
      "execution_count": 0,
      "outputs": [
        {
          "output_type": "stream",
          "text": [
            "10000/10000 [==============================] - 0s 34us/sample - loss: 0.5564 - acc: 0.8209\n",
            "Test accuracy: 0.8209\n"
          ],
          "name": "stdout"
        }
      ]
    },
    {
      "cell_type": "markdown",
      "metadata": {
        "id": "O6lAeJift-RD",
        "colab_type": "text"
      },
      "source": [
        "Training and Test Loss Graph"
      ]
    },
    {
      "cell_type": "code",
      "metadata": {
        "id": "PfXQejCruMQe",
        "colab_type": "code",
        "colab": {}
      },
      "source": [
        "history_dict = history.history\n",
        "loss_values = history_dict['loss']\n",
        "test_loss_values = history_dict['val_loss']\n",
        "epochs_range = range(1, epochs+1)"
      ],
      "execution_count": 0,
      "outputs": []
    },
    {
      "cell_type": "code",
      "metadata": {
        "id": "HpJJZN1XuNA-",
        "colab_type": "code",
        "outputId": "36585bb4-78ca-4c8a-d24e-464fb651c155",
        "colab": {
          "base_uri": "https://localhost:8080/",
          "height": 295
        }
      },
      "source": [
        "plt.plot(epochs_range, loss_values, 'bo', label='Training loss')\n",
        "plt.plot(epochs_range, test_loss_values, 'ro', label='Test loss')\n",
        "plt.title('Training and test loss')\n",
        "plt.xlabel('Epochs')\n",
        "plt.ylabel('Loss')\n",
        "plt.legend()\n",
        "plt.show()"
      ],
      "execution_count": 0,
      "outputs": [
        {
          "output_type": "display_data",
          "data": {
            "image/png": "[encoded data removed]",
            "text/plain": [
              "<Figure size 432x288 with 1 Axes>"
            ]
          },
          "metadata": {
            "tags": []
          }
        }
      ]
    },
    {
      "cell_type": "markdown",
      "metadata": {
        "id": "iP82-FFTuB0z",
        "colab_type": "text"
      },
      "source": [
        "Training and Test Accuracy Graph"
      ]
    },
    {
      "cell_type": "code",
      "metadata": {
        "id": "UIaH1Qr3uSqh",
        "colab_type": "code",
        "colab": {}
      },
      "source": [
        "acc_values = history_dict['acc']\n",
        "test_acc_values = history_dict['val_acc']"
      ],
      "execution_count": 0,
      "outputs": []
    },
    {
      "cell_type": "code",
      "metadata": {
        "id": "_Xee7hD4uY8z",
        "colab_type": "code",
        "outputId": "3f122192-eb8b-424e-8c21-a764460dc096",
        "colab": {
          "base_uri": "https://localhost:8080/",
          "height": 295
        }
      },
      "source": [
        "plt.plot(epochs_range, acc_values, 'bo', label='Training accuracy')\n",
        "plt.plot(epochs_range, test_acc_values, 'ro', label='Test accuracy')\n",
        "plt.title('Training and test accuracy')\n",
        "plt.xlabel('Epochs')\n",
        "plt.ylabel('Accuracy')\n",
        "plt.legend()\n",
        "plt.show()"
      ],
      "execution_count": 0,
      "outputs": [
        {
          "output_type": "display_data",
          "data": {
            "image/png": "[encoded data removed]",
            "text/plain": [
              "<Figure size 432x288 with 1 Axes>"
            ]
          },
          "metadata": {
            "tags": []
          }
        }
      ]
    },
    {
      "cell_type": "markdown",
      "metadata": {
        "id": "mv6bzBLdocHj",
        "colab_type": "text"
      },
      "source": [
        "# Hw2 Example of Overfitting"
      ]
    },
    {
      "cell_type": "markdown",
      "metadata": {
        "id": "oyC5T0mqoy5M",
        "colab_type": "text"
      },
      "source": [
        "Building the Model"
      ]
    },
    {
      "cell_type": "code",
      "metadata": {
        "id": "cF8_9157pMU4",
        "colab_type": "code",
        "outputId": "99893a65-47c5-4840-9546-cb25407038a2",
        "colab": {
          "base_uri": "https://localhost:8080/",
          "height": 714
        }
      },
      "source": [
        "# set up the modified to overfit with few layers and some size variaiton\n",
        "\n",
        "model_o = keras.Sequential([\n",
        "    keras.layers.Flatten(input_shape=(28, 28)),\n",
        "    keras.layers.Dense(512, activation=tf.nn.relu), \n",
        "    keras.layers.Dense(10, activation=tf.nn.softmax)\n",
        "])\n",
        "\n",
        "# compile the model\n",
        "\n",
        "model_o.compile(optimizer='adam',\n",
        "             loss='sparse_categorical_crossentropy',\n",
        "             metrics=['accuracy'])\n",
        "\n",
        "# train the model\n",
        "epochs = 20\n",
        "history = model_o.fit(train_images, \n",
        "                      train_labels, \n",
        "                      epochs=epochs,  \n",
        "                      validation_data=(test_images, test_labels))"
      ],
      "execution_count": 0,
      "outputs": [
        {
          "output_type": "stream",
          "text": [
            "Train on 60000 samples, validate on 10000 samples\n",
            "Epoch 1/20\n",
            "60000/60000 [==============================] - 8s 136us/sample - loss: 0.4728 - acc: 0.8317 - val_loss: 0.4426 - val_acc: 0.8365\n",
            "Epoch 2/20\n",
            "60000/60000 [==============================] - 8s 133us/sample - loss: 0.3571 - acc: 0.8690 - val_loss: 0.3865 - val_acc: 0.8632\n",
            "Epoch 3/20\n",
            "60000/60000 [==============================] - 8s 136us/sample - loss: 0.3222 - acc: 0.8817 - val_loss: 0.4010 - val_acc: 0.8590\n",
            "Epoch 4/20\n",
            "60000/60000 [==============================] - 9s 143us/sample - loss: 0.2987 - acc: 0.8894 - val_loss: 0.3803 - val_acc: 0.8635\n",
            "Epoch 5/20\n",
            "60000/60000 [==============================] - 9s 145us/sample - loss: 0.2793 - acc: 0.8960 - val_loss: 0.3392 - val_acc: 0.8781\n",
            "Epoch 6/20\n",
            "60000/60000 [==============================] - 8s 137us/sample - loss: 0.2641 - acc: 0.9004 - val_loss: 0.3464 - val_acc: 0.8792\n",
            "Epoch 7/20\n",
            "60000/60000 [==============================] - 9s 142us/sample - loss: 0.2526 - acc: 0.9039 - val_loss: 0.3392 - val_acc: 0.8815\n",
            "Epoch 8/20\n",
            "60000/60000 [==============================] - 9s 144us/sample - loss: 0.2418 - acc: 0.9076 - val_loss: 0.3223 - val_acc: 0.8872\n",
            "Epoch 9/20\n",
            "60000/60000 [==============================] - 8s 139us/sample - loss: 0.2317 - acc: 0.9127 - val_loss: 0.3306 - val_acc: 0.8842\n",
            "Epoch 10/20\n",
            "60000/60000 [==============================] - 9s 155us/sample - loss: 0.2220 - acc: 0.9159 - val_loss: 0.3352 - val_acc: 0.8832\n",
            "Epoch 11/20\n",
            "60000/60000 [==============================] - 8s 141us/sample - loss: 0.2143 - acc: 0.9192 - val_loss: 0.3369 - val_acc: 0.8872\n",
            "Epoch 12/20\n",
            "60000/60000 [==============================] - 9s 145us/sample - loss: 0.2054 - acc: 0.9224 - val_loss: 0.3529 - val_acc: 0.8798\n",
            "Epoch 13/20\n",
            "60000/60000 [==============================] - 9s 145us/sample - loss: 0.1994 - acc: 0.9248 - val_loss: 0.3473 - val_acc: 0.8886\n",
            "Epoch 14/20\n",
            "60000/60000 [==============================] - 9s 151us/sample - loss: 0.1941 - acc: 0.9280 - val_loss: 0.3398 - val_acc: 0.8903\n",
            "Epoch 15/20\n",
            "60000/60000 [==============================] - 9s 153us/sample - loss: 0.1834 - acc: 0.9304 - val_loss: 0.3342 - val_acc: 0.8966\n",
            "Epoch 16/20\n",
            "60000/60000 [==============================] - 9s 146us/sample - loss: 0.1785 - acc: 0.9318 - val_loss: 0.3581 - val_acc: 0.8914\n",
            "Epoch 17/20\n",
            "60000/60000 [==============================] - 9s 150us/sample - loss: 0.1735 - acc: 0.9349 - val_loss: 0.3600 - val_acc: 0.8841\n",
            "Epoch 18/20\n",
            "60000/60000 [==============================] - 9s 151us/sample - loss: 0.1667 - acc: 0.9372 - val_loss: 0.3672 - val_acc: 0.8871\n",
            "Epoch 19/20\n",
            "60000/60000 [==============================] - 9s 147us/sample - loss: 0.1634 - acc: 0.9391 - val_loss: 0.3597 - val_acc: 0.8885\n",
            "Epoch 20/20\n",
            "60000/60000 [==============================] - 8s 141us/sample - loss: 0.1576 - acc: 0.9404 - val_loss: 0.3920 - val_acc: 0.8881\n"
          ],
          "name": "stdout"
        }
      ]
    },
    {
      "cell_type": "markdown",
      "metadata": {
        "id": "3BQRfB9kp9D0",
        "colab_type": "text"
      },
      "source": [
        "Evaluate Accuracy"
      ]
    },
    {
      "cell_type": "code",
      "metadata": {
        "id": "1GWB6pggqAac",
        "colab_type": "code",
        "outputId": "cd4aed64-ffeb-4603-9a77-711504cdd090",
        "colab": {
          "base_uri": "https://localhost:8080/",
          "height": 51
        }
      },
      "source": [
        "test_loss, test_acc = model_o.evaluate(test_images, test_labels)\n",
        "\n",
        "print('Test accuracy:', test_acc) # low test loss and unreliable predictions"
      ],
      "execution_count": 0,
      "outputs": [
        {
          "output_type": "stream",
          "text": [
            "10000/10000 [==============================] - 1s 54us/sample - loss: 0.3920 - acc: 0.8881\n",
            "Test accuracy: 0.8881\n"
          ],
          "name": "stdout"
        }
      ]
    },
    {
      "cell_type": "markdown",
      "metadata": {
        "id": "uesN5mEEqLX4",
        "colab_type": "text"
      },
      "source": [
        "Training and Test Loss Graph"
      ]
    },
    {
      "cell_type": "code",
      "metadata": {
        "id": "ALaMweZ9qODV",
        "colab_type": "code",
        "colab": {}
      },
      "source": [
        "history_dict = history.history\n",
        "loss_values = history_dict['loss']\n",
        "test_loss_values = history_dict['val_loss']\n",
        "epochs_range = range(1, epochs+1)"
      ],
      "execution_count": 0,
      "outputs": []
    },
    {
      "cell_type": "code",
      "metadata": {
        "id": "q26Q8aqlqUmZ",
        "colab_type": "code",
        "outputId": "5c484b86-a625-452d-a6fa-1dc59b9fd2ad",
        "colab": {
          "base_uri": "https://localhost:8080/",
          "height": 295
        }
      },
      "source": [
        "plt.plot(epochs_range, loss_values, 'bo', label='Training loss')\n",
        "plt.plot(epochs_range, test_loss_values, 'ro', label='Test loss')\n",
        "plt.title('Training and test loss')\n",
        "plt.xlabel('Epochs')\n",
        "plt.ylabel('Loss')\n",
        "plt.legend()\n",
        "plt.show()"
      ],
      "execution_count": 0,
      "outputs": [
        {
          "output_type": "display_data",
          "data": {
            "image/png": "[encoded data removed]",
            "text/plain": [
              "<Figure size 432x288 with 1 Axes>"
            ]
          },
          "metadata": {
            "tags": []
          }
        }
      ]
    },
    {
      "cell_type": "markdown",
      "metadata": {
        "id": "nV6EjSpHqV3v",
        "colab_type": "text"
      },
      "source": [
        "Training and Test Accuracy Graph"
      ]
    },
    {
      "cell_type": "code",
      "metadata": {
        "id": "cMX_LI_OqZmK",
        "colab_type": "code",
        "colab": {}
      },
      "source": [
        "acc_values = history_dict['acc']\n",
        "test_acc_values = history_dict['val_acc']"
      ],
      "execution_count": 0,
      "outputs": []
    },
    {
      "cell_type": "code",
      "metadata": {
        "id": "3Pqm3ThcqZ4z",
        "colab_type": "code",
        "outputId": "0ea8099b-8d6b-4ef7-906d-95d598a5566c",
        "colab": {
          "base_uri": "https://localhost:8080/",
          "height": 295
        }
      },
      "source": [
        "plt.plot(epochs_range, acc_values, 'bo', label='Training accuracy')\n",
        "plt.plot(epochs_range, test_acc_values, 'ro', label='Test accuracy')\n",
        "plt.title('Training and test accuracy')\n",
        "plt.xlabel('Epochs')\n",
        "plt.ylabel('Accuracy')\n",
        "plt.legend()\n",
        "plt.show()"
      ],
      "execution_count": 0,
      "outputs": [
        {
          "output_type": "display_data",
          "data": {
            "image/png": "[encoded data removed]",
            "text/plain": [
              "<Figure size 432x288 with 1 Axes>"
            ]
          },
          "metadata": {
            "tags": []
          }
        }
      ]
    },
    {
      "cell_type": "markdown",
      "metadata": {
        "id": "NsngPCScpZuO",
        "colab_type": "text"
      },
      "source": [
        "# Hw2 Example of Good Fit"
      ]
    },
    {
      "cell_type": "markdown",
      "metadata": {
        "id": "SIy53uopw8fk",
        "colab_type": "text"
      },
      "source": [
        "Build the Model"
      ]
    },
    {
      "cell_type": "code",
      "metadata": {
        "id": "Cu02wvUsx4BH",
        "colab_type": "code",
        "outputId": "afb25e02-f0a0-4a74-9b3a-6da5f40f2e72",
        "colab": {
          "base_uri": "https://localhost:8080/",
          "height": 731
        }
      },
      "source": [
        "# set up the modified to fit well with dropout\n",
        "\n",
        "model_g = keras.Sequential([\n",
        "    keras.layers.Flatten(input_shape=(28, 28)),\n",
        "    keras.layers.Dense(128, activation=tf.nn.relu), \n",
        "    keras.layers.Dropout(0.51),\n",
        "    keras.layers.Dense(10, activation=tf.nn.softmax)\n",
        "])\n",
        "\n",
        "# compile the model\n",
        "\n",
        "model_g.compile(optimizer='adam',\n",
        "             loss='sparse_categorical_crossentropy',\n",
        "             metrics=['accuracy'])\n",
        "\n",
        "# train the model\n",
        "epochs = 20\n",
        "history = model_g.fit(train_images, \n",
        "                      train_labels, \n",
        "                      epochs=epochs,  \n",
        "                      validation_data=(test_images, test_labels))"
      ],
      "execution_count": 0,
      "outputs": [
        {
          "output_type": "stream",
          "text": [
            "WARNING:tensorflow:Large dropout rate: 0.51 (>0.5). In TensorFlow 2.x, dropout() uses dropout rate instead of keep_prob. Please ensure that this is intended.\n",
            "Train on 60000 samples, validate on 10000 samples\n",
            "Epoch 1/20\n",
            "60000/60000 [==============================] - 5s 91us/sample - loss: 0.6236 - acc: 0.7794 - val_loss: 0.4440 - val_acc: 0.8336\n",
            "Epoch 2/20\n",
            "60000/60000 [==============================] - 5s 87us/sample - loss: 0.4744 - acc: 0.8280 - val_loss: 0.4143 - val_acc: 0.8506\n",
            "Epoch 3/20\n",
            "60000/60000 [==============================] - 5s 88us/sample - loss: 0.4449 - acc: 0.8368 - val_loss: 0.3920 - val_acc: 0.8588\n",
            "Epoch 4/20\n",
            "60000/60000 [==============================] - 5s 87us/sample - loss: 0.4248 - acc: 0.8461 - val_loss: 0.4021 - val_acc: 0.8542\n",
            "Epoch 5/20\n",
            "60000/60000 [==============================] - 5s 90us/sample - loss: 0.4106 - acc: 0.8486 - val_loss: 0.3841 - val_acc: 0.8625\n",
            "Epoch 6/20\n",
            "60000/60000 [==============================] - 5s 91us/sample - loss: 0.4008 - acc: 0.8523 - val_loss: 0.3724 - val_acc: 0.8676\n",
            "Epoch 7/20\n",
            "60000/60000 [==============================] - 5s 89us/sample - loss: 0.3950 - acc: 0.8559 - val_loss: 0.3679 - val_acc: 0.8670\n",
            "Epoch 8/20\n",
            "60000/60000 [==============================] - 5s 91us/sample - loss: 0.3822 - acc: 0.8596 - val_loss: 0.3632 - val_acc: 0.8681\n",
            "Epoch 9/20\n",
            "60000/60000 [==============================] - 5s 89us/sample - loss: 0.3784 - acc: 0.8604 - val_loss: 0.3698 - val_acc: 0.8674\n",
            "Epoch 10/20\n",
            "60000/60000 [==============================] - 5s 88us/sample - loss: 0.3731 - acc: 0.8629 - val_loss: 0.3779 - val_acc: 0.8670\n",
            "Epoch 11/20\n",
            "60000/60000 [==============================] - 5s 87us/sample - loss: 0.3650 - acc: 0.8673 - val_loss: 0.3608 - val_acc: 0.8750\n",
            "Epoch 12/20\n",
            "60000/60000 [==============================] - 5s 88us/sample - loss: 0.3582 - acc: 0.8687 - val_loss: 0.3567 - val_acc: 0.8767\n",
            "Epoch 13/20\n",
            "60000/60000 [==============================] - 5s 88us/sample - loss: 0.3598 - acc: 0.8679 - val_loss: 0.3591 - val_acc: 0.8732\n",
            "Epoch 14/20\n",
            "60000/60000 [==============================] - 5s 86us/sample - loss: 0.3541 - acc: 0.8684 - val_loss: 0.3635 - val_acc: 0.8745\n",
            "Epoch 15/20\n",
            "60000/60000 [==============================] - 5s 90us/sample - loss: 0.3526 - acc: 0.8693 - val_loss: 0.3606 - val_acc: 0.8724\n",
            "Epoch 16/20\n",
            "60000/60000 [==============================] - 5s 87us/sample - loss: 0.3487 - acc: 0.8710 - val_loss: 0.3546 - val_acc: 0.8734\n",
            "Epoch 17/20\n",
            "60000/60000 [==============================] - 5s 86us/sample - loss: 0.3433 - acc: 0.8727 - val_loss: 0.3498 - val_acc: 0.8769\n",
            "Epoch 18/20\n",
            "60000/60000 [==============================] - 5s 85us/sample - loss: 0.3429 - acc: 0.8723 - val_loss: 0.3610 - val_acc: 0.8734\n",
            "Epoch 19/20\n",
            "60000/60000 [==============================] - 6s 93us/sample - loss: 0.3409 - acc: 0.8727 - val_loss: 0.3567 - val_acc: 0.8792\n",
            "Epoch 20/20\n",
            "60000/60000 [==============================] - 5s 87us/sample - loss: 0.3377 - acc: 0.8752 - val_loss: 0.3521 - val_acc: 0.8774\n"
          ],
          "name": "stdout"
        }
      ]
    },
    {
      "cell_type": "markdown",
      "metadata": {
        "id": "XRs0OD5oxYuN",
        "colab_type": "text"
      },
      "source": [
        "Evaluate Accuracy"
      ]
    },
    {
      "cell_type": "code",
      "metadata": {
        "id": "6UThknhCx7T9",
        "colab_type": "code",
        "outputId": "aa99c841-65bb-47bb-b5c0-9efecfe850a9",
        "colab": {
          "base_uri": "https://localhost:8080/",
          "height": 51
        }
      },
      "source": [
        "test_loss, test_acc = model_g.evaluate(test_images, test_labels)\n",
        "\n",
        "print('Test accuracy:', test_acc) # low test loss and unreliable predictions"
      ],
      "execution_count": 0,
      "outputs": [
        {
          "output_type": "stream",
          "text": [
            "10000/10000 [==============================] - 0s 37us/sample - loss: 0.3521 - acc: 0.8774\n",
            "Test accuracy: 0.8774\n"
          ],
          "name": "stdout"
        }
      ]
    },
    {
      "cell_type": "markdown",
      "metadata": {
        "id": "tx1qlekKxcDR",
        "colab_type": "text"
      },
      "source": [
        "Training and Test Loss"
      ]
    },
    {
      "cell_type": "code",
      "metadata": {
        "id": "cmkRldZzFtB3",
        "colab_type": "code",
        "colab": {}
      },
      "source": [
        "history_dict = history.history\n",
        "loss_values = history_dict['loss']\n",
        "test_loss_values = history_dict['val_loss']\n",
        "epochs_range = range(1, epochs+1)"
      ],
      "execution_count": 0,
      "outputs": []
    },
    {
      "cell_type": "code",
      "metadata": {
        "id": "__3Vb98WFt-z",
        "colab_type": "code",
        "outputId": "6f737496-7f83-44de-ab1d-641b14302a4f",
        "colab": {
          "base_uri": "https://localhost:8080/",
          "height": 295
        }
      },
      "source": [
        "plt.plot(epochs_range, loss_values, 'bo', label='Training loss')\n",
        "plt.plot(epochs_range, test_loss_values, 'ro', label='Test loss')\n",
        "plt.title('Training and test loss')\n",
        "plt.xlabel('Epochs')\n",
        "plt.ylabel('Loss')\n",
        "plt.legend()\n",
        "plt.show()"
      ],
      "execution_count": 0,
      "outputs": [
        {
          "output_type": "display_data",
          "data": {
            "image/png": "[encoded data removed]",
            "text/plain": [
              "<Figure size 432x288 with 1 Axes>"
            ]
          },
          "metadata": {
            "tags": []
          }
        }
      ]
    },
    {
      "cell_type": "markdown",
      "metadata": {
        "id": "8NxvOGcDxd-U",
        "colab_type": "text"
      },
      "source": [
        "Training and Test Accuracy"
      ]
    },
    {
      "cell_type": "code",
      "metadata": {
        "id": "uVnwEdr1Fxmw",
        "colab_type": "code",
        "colab": {}
      },
      "source": [
        "acc_values = history_dict['acc']\n",
        "test_acc_values = history_dict['val_acc']"
      ],
      "execution_count": 0,
      "outputs": []
    },
    {
      "cell_type": "code",
      "metadata": {
        "id": "5-ZYuGygFx-t",
        "colab_type": "code",
        "outputId": "4c47976b-893f-482f-b400-fbad80040aaf",
        "colab": {
          "base_uri": "https://localhost:8080/",
          "height": 295
        }
      },
      "source": [
        "plt.plot(epochs_range, acc_values, 'bo', label='Training accuracy')\n",
        "plt.plot(epochs_range, test_acc_values, 'ro', label='Test accuracy')\n",
        "plt.title('Training and test accuracy')\n",
        "plt.xlabel('Epochs')\n",
        "plt.ylabel('Accuracy')\n",
        "plt.legend()\n",
        "plt.show()"
      ],
      "execution_count": 0,
      "outputs": [
        {
          "output_type": "display_data",
          "data": {
            "image/png": "[encoded data removed]",
            "text/plain": [
              "<Figure size 432x288 with 1 Axes>"
            ]
          },
          "metadata": {
            "tags": []
          }
        }
      ]
    }
  ]
}