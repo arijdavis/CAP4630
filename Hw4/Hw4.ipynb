{
  "nbformat": 4,
  "nbformat_minor": 0,
  "metadata": {
    "colab": {
      "name": "Hw4.ipynb",
      "provenance": [],
      "include_colab_link": true
    },
    "kernelspec": {
      "name": "python3",
      "display_name": "Python 3"
    },
    "accelerator": "GPU"
  },
  "cells": [
    {
      "cell_type": "markdown",
      "metadata": {
        "id": "view-in-github",
        "colab_type": "text"
      },
      "source": [
        "<a href=\"https://colab.research.google.com/github/arijdavis/CAP4630/blob/master/Hw4/Hw4.ipynb\" target=\"_parent\"><img src=\"https://colab.research.google.com/assets/colab-badge.svg\" alt=\"Open In Colab\"/></a>"
      ]
    },
    {
      "cell_type": "code",
      "metadata": {
        "id": "vQ_6Uq8E2VO_",
        "colab_type": "code",
        "outputId": "f7c55282-5454-41da-e744-8886500d26ec",
        "colab": {
          "base_uri": "https://localhost:8080/",
          "height": 202
        }
      },
      "source": [
        "import tensorflow as tf\n",
        "from tensorflow.python.client import device_lib\n",
        "\n",
        "print(\"TensorFlow Version: \" , tf.__version__, \"\\n\")\n",
        "\n",
        "for x in device_lib.list_local_devices():\n",
        "   if x.device_type == \"GPU\":\n",
        "     print(\"***** GPU Information *****\")\n",
        "     print(\"Device Name: \" , x.name)\n",
        "     print(\"Memory Limit: \" , \"%.2f\" % float(x.memory_limit/(1000*1000*1000)), \"GB\")\n",
        "     print(\"Description: \" , x.physical_device_desc)"
      ],
      "execution_count": 1,
      "outputs": [
        {
          "output_type": "display_data",
          "data": {
            "text/html": [
              "<p style=\"color: red;\">\n",
              "The default version of TensorFlow in Colab will soon switch to TensorFlow 2.x.<br>\n",
              "We recommend you <a href=\"https://www.tensorflow.org/guide/migrate\" target=\"_blank\">upgrade</a> now \n",
              "or ensure your notebook will continue to use TensorFlow 1.x via the <code>%tensorflow_version 1.x</code> magic:\n",
              "<a href=\"https://colab.research.google.com/notebooks/tensorflow_version.ipynb\" target=\"_blank\">more info</a>.</p>\n"
            ],
            "text/plain": [
              "<IPython.core.display.HTML object>"
            ]
          },
          "metadata": {
            "tags": []
          }
        },
        {
          "output_type": "stream",
          "text": [
            "TensorFlow Version:  1.15.0 \n",
            "\n",
            "***** GPU Information *****\n",
            "Device Name:  /device:GPU:0\n",
            "Memory Limit:  7.47 GB\n",
            "Description:  device: 0, name: Tesla P4, pci bus id: 0000:00:04.0, compute capability: 6.1\n"
          ],
          "name": "stdout"
        }
      ]
    },
    {
      "cell_type": "markdown",
      "metadata": {
        "id": "6uKZKdJHVGUK",
        "colab_type": "text"
      },
      "source": [
        "# 0. General concepts (for instance, what is artificial intelligence, machine learning, deep learning)\n",
        "\n"
      ]
    },
    {
      "cell_type": "markdown",
      "metadata": {
        "id": "pBx6sZNvykyv",
        "colab_type": "text"
      },
      "source": [
        "**Introduction to AI**"
      ]
    },
    {
      "cell_type": "markdown",
      "metadata": {
        "id": "9PfmkIP5WFkk",
        "colab_type": "text"
      },
      "source": [
        "The definition of artificial intelligence (AI) is always changing. It is mainly the science of simulating intelligent behavior using machines in a way that allows the machine to perform tasks that mimic, supplement,or surpase human intelligence. "
      ]
    },
    {
      "cell_type": "markdown",
      "metadata": {
        "id": "x5z4KDs2XEmT",
        "colab_type": "text"
      },
      "source": [
        "AI can be broken up into many subcategories deferentiated by the machines are constructed to make decisions. Symbolic 'old-fashioned' represents machines contructed via human-readable methods, and functions by being fed the inputs and rules to produce some output. Machine learning on the other hand is a process that takes in the inputs and outputs to derive the rules it will operate under, however,the way the machine arrived at those rules is not often well understood by humans. "
      ]
    },
    {
      "cell_type": "markdown",
      "metadata": {
        "id": "oUlI51FGZE3v",
        "colab_type": "text"
      },
      "source": [
        "Machine learning is the process of creating a mathmatical model that can make predicitons about new data after it has trained to learn patterns in curated datasets. Machine learning models can take many forms depending on the type of problem being solved. Supervised learning, for example, is the process of discovering patterns in labeled data. Unsupervised learning on the other hand is the process of discovering patterns in unlabeled data. A third type called reinforcement learning gives the model, or agent, a specific goal it has to learn how to reach or maintain through its actions upon the environment."
      ]
    },
    {
      "cell_type": "markdown",
      "metadata": {
        "id": "45WAJNoF2P5X",
        "colab_type": "text"
      },
      "source": [
        "Deep learning is a subset of machine learning that utilizes models called artificial neural networks designed vaguely like neurons in the human brain. Neural networks utilize layers, data-processing sectors of the model that take in and output multidimentional arrays (also known as  vectors or tensors). Layers can have weights or come in different forms depending on the kind of data being processed. "
      ]
    },
    {
      "cell_type": "markdown",
      "metadata": {
        "id": "Q2mTYEATVOjh",
        "colab_type": "text"
      },
      "source": [
        "# 1. Building a model (for instance, here you can talk about the structure of a convent, what it components are etc.)\n"
      ]
    },
    {
      "cell_type": "markdown",
      "metadata": {
        "id": "ESaSqrTKyGN9",
        "colab_type": "text"
      },
      "source": [
        "**Building a Linear Regression Model**"
      ]
    },
    {
      "cell_type": "markdown",
      "metadata": {
        "id": "HIFOZpv3ziwo",
        "colab_type": "text"
      },
      "source": [
        "Linear regression is a machine learning model that uses the equation:\n",
        "\n",
        ">  y' = b + w1*x1\n",
        "\n",
        "where y represents the model's prediciton, b represents the models bias, x1 represents a 'feature' or a known input within the dataset, and w1 represents the 'weight' or level of significance that the feature will be given in influencing the predictions. These models can have more than one weight and feature. "
      ]
    },
    {
      "cell_type": "markdown",
      "metadata": {
        "id": "m3Cc85jD6fKV",
        "colab_type": "text"
      },
      "source": [
        "Linear regression models best work with data where the features' inputs have a linear relationship with the outputs as demonstrated below: "
      ]
    },
    {
      "cell_type": "code",
      "metadata": {
        "id": "l5rq92V7ObHs",
        "colab_type": "code",
        "colab": {}
      },
      "source": [
        "%matplotlib inline\n",
        "import matplotlib as mpl\n",
        "import matplotlib.pyplot as plt\n",
        "mpl.rc('axes', labelsize=14)\n",
        "mpl.rc('xtick', labelsize=12)\n",
        "mpl.rc('ytick', labelsize=12)"
      ],
      "execution_count": 0,
      "outputs": []
    },
    {
      "cell_type": "code",
      "metadata": {
        "id": "B4VTPpXkOhds",
        "colab_type": "code",
        "colab": {}
      },
      "source": [
        "import numpy as np\n",
        "\n",
        "# generate data\n",
        "m = 100\n",
        "xs = 2 * np.random.rand(m, 1)\n",
        "ys = 4 + 3 * xs + np.random.rand(m, 1)"
      ],
      "execution_count": 0,
      "outputs": []
    },
    {
      "cell_type": "code",
      "metadata": {
        "id": "PlhVE5hJSbsy",
        "colab_type": "code",
        "outputId": "1c8f9f72-927b-4c06-e065-1ecf402688f3",
        "colab": {
          "base_uri": "https://localhost:8080/",
          "height": 290
        }
      },
      "source": [
        "plt.plot(X, y, \"b.\")\n",
        "plt.xlabel(\"$x_1$\", fontsize=18)\n",
        "plt.ylabel(\"$y$\", rotation=0, fontsize=18)\n",
        "plt.axis([0, 2, 0, 15])\n",
        "plt.show()"
      ],
      "execution_count": 7,
      "outputs": [
        {
          "output_type": "display_data",
          "data": {
            "image/png": "[encoded data removed]",
            "text/plain": [
              "<Figure size 432x288 with 1 Axes>"
            ]
          },
          "metadata": {
            "tags": []
          }
        }
      ]
    },
    {
      "cell_type": "markdown",
      "metadata": {
        "id": "0hsvbqJnGVMg",
        "colab_type": "text"
      },
      "source": [
        "Once we've gathered our data, we can begin to group it into two sets: one for training, and one for testing. The training set filled with the data the model will use to learn patterns, whereas the test set is used so that we can test to make sure the model accuratly understood the patterns by giving it data it has never worked with."
      ]
    },
    {
      "cell_type": "code",
      "metadata": {
        "id": "xAifgKBeGLIp",
        "colab_type": "code",
        "colab": {}
      },
      "source": [
        "# split the data into training and test sets\n",
        "# train set\n",
        "train_xs = xs[:80]\n",
        "train_ys = ys[:80]\n",
        "# test set\n",
        "test_xs = xs[80:]\n",
        "test_ys = ys[80:]"
      ],
      "execution_count": 0,
      "outputs": []
    },
    {
      "cell_type": "markdown",
      "metadata": {
        "id": "xqu-sWB25C0Y",
        "colab_type": "text"
      },
      "source": [
        "**Building a Neural Network**"
      ]
    },
    {
      "cell_type": "markdown",
      "metadata": {
        "id": "fH467ede1AXX",
        "colab_type": "text"
      },
      "source": [
        "A neural network can be considered a directed graph of connected layers. Commonly these layers take the form of linear stacks that map one input to one output, but there are many more complext ways that layers can be arranged. When building a neural network, you have to consider the type of data you want to process in order to select the right type of layers to construct. Convolutional layers, for example, process image data stored in 4D tensors. They go hand in hand with Convolutional Neural Networks (CNNs) that take in raw image pixel data and learn to understand what the image is displaying. Convolutional Neural Networks similarly need to have their data properly set up and images resized."
      ]
    },
    {
      "cell_type": "code",
      "metadata": {
        "id": "A-uk1KOnDMPG",
        "colab_type": "code",
        "colab": {
          "base_uri": "https://localhost:8080/",
          "height": 34
        },
        "outputId": "077469d9-f28c-4ad2-e1f8-fad1ed6bbece"
      },
      "source": [
        "from keras.datasets import mnist\n",
        "\n",
        "(train_images_original, train_labels_original), (test_images_original, test_labels_original) = mnist.load_data()\n",
        "\n",
        "train_images = train_images_original.reshape((60000, 28, 28, 1))\n",
        "train_images = train_images.astype('float32') / 255\n",
        "\n",
        "test_images = test_images_original.reshape((10000, 28, 28, 1))\n",
        "test_images = test_images.astype('float32') / 255\n",
        "\n",
        "from keras.utils import to_categorical\n",
        "\n",
        "train_labels = to_categorical(train_labels_original)\n",
        "test_labels = to_categorical(test_labels_original)"
      ],
      "execution_count": 9,
      "outputs": [
        {
          "output_type": "stream",
          "text": [
            "Using TensorFlow backend.\n"
          ],
          "name": "stderr"
        }
      ]
    },
    {
      "cell_type": "markdown",
      "metadata": {
        "id": "W1pUXKy5Ctji",
        "colab_type": "text"
      },
      "source": [
        "The code below shows the process of building convolutional layers that will process the images of handwritten numbers in the MNIST dataset."
      ]
    },
    {
      "cell_type": "code",
      "metadata": {
        "id": "4foZT2mlDmGJ",
        "colab_type": "code",
        "colab": {
          "base_uri": "https://localhost:8080/",
          "height": 289
        },
        "outputId": "107d0e3e-fe85-46ff-bb93-92dd58e49f7c"
      },
      "source": [
        "from keras import models\n",
        "from keras import layers\n",
        "\n",
        "model = models.Sequential()\n",
        "model.add(layers.Conv2D(32, (3, 3), activation='relu', input_shape=(28, 28, 1)))\n",
        "model.add(layers.Flatten())\n",
        "model.add(layers.Dense(64, activation='relu'))\n",
        "model.add(layers.Dense(10, activation='softmax'))\n",
        "model.summary()"
      ],
      "execution_count": 25,
      "outputs": [
        {
          "output_type": "stream",
          "text": [
            "Model: \"sequential_4\"\n",
            "_________________________________________________________________\n",
            "Layer (type)                 Output Shape              Param #   \n",
            "=================================================================\n",
            "conv2d_6 (Conv2D)            (None, 26, 26, 32)        320       \n",
            "_________________________________________________________________\n",
            "flatten_3 (Flatten)          (None, 21632)             0         \n",
            "_________________________________________________________________\n",
            "dense_6 (Dense)              (None, 64)                1384512   \n",
            "_________________________________________________________________\n",
            "dense_7 (Dense)              (None, 10)                650       \n",
            "=================================================================\n",
            "Total params: 1,385,482\n",
            "Trainable params: 1,385,482\n",
            "Non-trainable params: 0\n",
            "_________________________________________________________________\n"
          ],
          "name": "stdout"
        }
      ]
    },
    {
      "cell_type": "markdown",
      "metadata": {
        "id": "GDe4KbNjWCSx",
        "colab_type": "text"
      },
      "source": [
        "As shown above, Keras is being used to combine multiple different types of compatable layers (Conv2D, MaxPooling, Flatten, and Dense) to form a pipeline that will process the image data. Layer compatability is very important to keep in mind, since each layer requires inputs and returns outputs that are a specific shape. Keras is capable of automatically infering the input shape a layer needs if it was specified in the layer before it. "
      ]
    },
    {
      "cell_type": "markdown",
      "metadata": {
        "id": "NotgA3ZQVQ-5",
        "colab_type": "text"
      },
      "source": [
        "# 2. Compiling a model (for instance, you can talk here about optimizers, learning rate etc.)"
      ]
    },
    {
      "cell_type": "markdown",
      "metadata": {
        "colab_type": "text",
        "id": "qCKR97Z_LD5l"
      },
      "source": [
        "**Compiling a Linear Regression Model**"
      ]
    },
    {
      "cell_type": "markdown",
      "metadata": {
        "id": "bwkAjMC6Lqj8",
        "colab_type": "text"
      },
      "source": [
        "Compiling a linear regression model involves setting up the hyperparameters, or adjustable values that affect how the model operates as it runs. The key values to adjust are the epoch and the learning rate. The number of epochs indicate the number of times training set passes through the model. The learning rate, however, is related to how the model learns. It is a scalar value that is used to calculate how much the weights should be adjusted for the next pass through of the training data."
      ]
    },
    {
      "cell_type": "code",
      "metadata": {
        "id": "OOGWgYjHLo2g",
        "colab_type": "code",
        "colab": {}
      },
      "source": [
        "# number of epochs\n",
        "epochs = 10\n",
        "# learning rate\n",
        "lr = 0.01"
      ],
      "execution_count": 0,
      "outputs": []
    },
    {
      "cell_type": "markdown",
      "metadata": {
        "id": "bxUKiXTTLJQa",
        "colab_type": "text"
      },
      "source": [
        "**Compiling a Convolutional Neural Network**"
      ]
    },
    {
      "cell_type": "markdown",
      "metadata": {
        "id": "8riu4oU9OLLh",
        "colab_type": "text"
      },
      "source": [
        "Compiling a neural network involves selecting the type of optimizer and loss function that the model will use to process the data."
      ]
    },
    {
      "cell_type": "markdown",
      "metadata": {
        "id": "mAum_ZWUQYBC",
        "colab_type": "text"
      },
      "source": [
        "The loss function calculates a value known as the loss to measure how successfull the model is doing in the training stage. The model is aiming to lower the loss value as much as possible, and it can use a number of different functions to accomplish that based on the problem at hand. This model is using a categorical_crossentrophy loss function, which works well for multiclass, single label classificaiton problems like identifying a handwritten letter."
      ]
    },
    {
      "cell_type": "code",
      "metadata": {
        "id": "TG8OMNs7LBaF",
        "colab_type": "code",
        "colab": {}
      },
      "source": [
        "model.compile(optimizer='rmsprop', \n",
        "              loss='categorical_crossentropy', \n",
        "              metrics=['accuracy'])"
      ],
      "execution_count": 0,
      "outputs": []
    },
    {
      "cell_type": "markdown",
      "metadata": {
        "id": "rtSJdDcNQuDb",
        "colab_type": "text"
      },
      "source": [
        "The optimizer will decide how to update the network depending on the loss fucntion. It has a similar function as the learning rate in the linear regression model. This specific optimizer known as the RMSprop is able to adapt its learning rate over time rather than using a single rate."
      ]
    },
    {
      "cell_type": "markdown",
      "metadata": {
        "id": "8sJMbGC8VReC",
        "colab_type": "text"
      },
      "source": [
        "# 3. Training a model (for instance, you can talk about overfitting/underfitting)"
      ]
    },
    {
      "cell_type": "markdown",
      "metadata": {
        "id": "CEm_9DZjSD8D",
        "colab_type": "text"
      },
      "source": [
        "**Training a Linear Regression Model**"
      ]
    },
    {
      "cell_type": "markdown",
      "metadata": {
        "id": "PBodHfNiTsLC",
        "colab_type": "text"
      },
      "source": [
        "A machine learning model trains by adjusting the values of its weights and biases until it discovers the values that results in the smallest loss, or in otherwords the highest accuracy. Rather than calculating every possible combination of values,the model utilizes a mechanic known as gradient descent to find the smallest loss value."
      ]
    },
    {
      "cell_type": "code",
      "metadata": {
        "id": "1aUlygwCSDCh",
        "colab_type": "code",
        "colab": {
          "base_uri": "https://localhost:8080/",
          "height": 34
        },
        "outputId": "0753dc84-c7b5-4b9d-b96a-e0a09e080a6c"
      },
      "source": [
        "# initial value for weight w and bias b\n",
        "w = np.random.randn(1)\n",
        "b = np.zeros(1)\n",
        "\n",
        "for epoch in np.arange(epochs):\n",
        "  for i in np.arange(80):\n",
        "    y_pred = w * train_xs[i] + b\n",
        "    \n",
        "    grad_w = (y_pred - train_ys[i]) * train_xs[i]\n",
        "    grad_b = (y_pred - train_ys[i])\n",
        "    \n",
        "    w -= lr * grad_w\n",
        "    b -= lr * grad_b\n",
        "\n",
        "test_loss = 0\n",
        "for i in np.arange(20):\n",
        "  test_loss += 0.5 * (w * test_xs[i] + b - test_ys[i]) ** 2\n",
        "test_loss /= 20\n",
        "\n",
        "test_loss"
      ],
      "execution_count": 13,
      "outputs": [
        {
          "output_type": "execute_result",
          "data": {
            "text/plain": [
              "array([0.08841288])"
            ]
          },
          "metadata": {
            "tags": []
          },
          "execution_count": 13
        }
      ]
    },
    {
      "cell_type": "code",
      "metadata": {
        "id": "tCCpin6NSsyi",
        "colab_type": "code",
        "colab": {
          "base_uri": "https://localhost:8080/",
          "height": 290
        },
        "outputId": "cc2be179-533b-4935-9826-acad13c6ffd0"
      },
      "source": [
        "pred_ys = w * test_xs + b\n",
        "plt.plot(test_xs, test_ys, \"b.\")\n",
        "plt.plot(test_xs, pred_ys, \"r.\") # predicted values\n",
        "plt.xlabel(\"$x_1$\", fontsize=18)\n",
        "plt.ylabel(\"$y$\", rotation=0, fontsize=18)\n",
        "plt.axis([0, 2, 0, 15])\n",
        "plt.show()"
      ],
      "execution_count": 14,
      "outputs": [
        {
          "output_type": "display_data",
          "data": {
            "image/png": "[encoded data removed]",
            "text/plain": [
              "<Figure size 432x288 with 1 Axes>"
            ]
          },
          "metadata": {
            "tags": []
          }
        }
      ]
    },
    {
      "cell_type": "markdown",
      "metadata": {
        "colab_type": "text",
        "id": "_euK-VqbSPee"
      },
      "source": [
        "**Training a Convolutional Neural Network**"
      ]
    },
    {
      "cell_type": "markdown",
      "metadata": {
        "id": "ahZ8Vcp7WjpS",
        "colab_type": "text"
      },
      "source": [
        "Training a neural network can be very simple. Without the right layer architecture, however, the predictions will not be as good as they could be."
      ]
    },
    {
      "cell_type": "code",
      "metadata": {
        "id": "3O7YoUv6SDgy",
        "colab_type": "code",
        "colab": {
          "base_uri": "https://localhost:8080/",
          "height": 394
        },
        "outputId": "712c232d-9f7c-47d3-ff69-1010e56d5b2a"
      },
      "source": [
        "epochs = 10\n",
        "history = model.fit(train_images, \n",
        "                    train_labels, \n",
        "                    epochs=epochs, \n",
        "                    batch_size=64,\n",
        "                    validation_data=(test_images, test_labels))"
      ],
      "execution_count": 27,
      "outputs": [
        {
          "output_type": "stream",
          "text": [
            "Train on 60000 samples, validate on 10000 samples\n",
            "Epoch 1/10\n",
            "60000/60000 [==============================] - 5s 90us/step - loss: 0.1733 - acc: 0.9465 - val_loss: 0.0660 - val_acc: 0.9787\n",
            "Epoch 2/10\n",
            "60000/60000 [==============================] - 5s 85us/step - loss: 0.0574 - acc: 0.9833 - val_loss: 0.0557 - val_acc: 0.9818\n",
            "Epoch 3/10\n",
            "60000/60000 [==============================] - 5s 87us/step - loss: 0.0366 - acc: 0.9894 - val_loss: 0.0481 - val_acc: 0.9849\n",
            "Epoch 4/10\n",
            "60000/60000 [==============================] - 5s 85us/step - loss: 0.0249 - acc: 0.9928 - val_loss: 0.0540 - val_acc: 0.9839\n",
            "Epoch 5/10\n",
            "60000/60000 [==============================] - 5s 86us/step - loss: 0.0171 - acc: 0.9949 - val_loss: 0.0542 - val_acc: 0.9850\n",
            "Epoch 6/10\n",
            "60000/60000 [==============================] - 5s 85us/step - loss: 0.0119 - acc: 0.9967 - val_loss: 0.0653 - val_acc: 0.9846\n",
            "Epoch 7/10\n",
            "60000/60000 [==============================] - 5s 85us/step - loss: 0.0082 - acc: 0.9977 - val_loss: 0.0726 - val_acc: 0.9824\n",
            "Epoch 8/10\n",
            "60000/60000 [==============================] - 5s 84us/step - loss: 0.0065 - acc: 0.9982 - val_loss: 0.0637 - val_acc: 0.9860\n",
            "Epoch 9/10\n",
            "60000/60000 [==============================] - 5s 85us/step - loss: 0.0042 - acc: 0.9988 - val_loss: 0.0759 - val_acc: 0.9861\n",
            "Epoch 10/10\n",
            "60000/60000 [==============================] - 5s 84us/step - loss: 0.0031 - acc: 0.9990 - val_loss: 0.0815 - val_acc: 0.9843\n"
          ],
          "name": "stdout"
        }
      ]
    },
    {
      "cell_type": "markdown",
      "metadata": {
        "id": "4D9PH2gLZ4r-",
        "colab_type": "text"
      },
      "source": [
        "The graphs below show that our model is overfitting. This occurs when the model is successful with the training data, but fails with the testing data. The model is likely unable to make generalizations about the data that would help improve its performance with unseen data. "
      ]
    },
    {
      "cell_type": "code",
      "metadata": {
        "id": "RcWEni20WQzb",
        "colab_type": "code",
        "colab": {
          "base_uri": "https://localhost:8080/",
          "height": 302
        },
        "outputId": "f518e684-4b36-41ea-c510-f491bc1c5cd7"
      },
      "source": [
        "history_dict = history.history\n",
        "loss_values = history_dict['loss']\n",
        "test_loss_values = history_dict['val_loss']\n",
        "epochs_range = range(1, epochs + 1)\n",
        "\n",
        "plt.plot(epochs_range, loss_values, 'bo', label='Training loss')\n",
        "plt.plot(epochs_range, test_loss_values, 'ro', label='Test loss')\n",
        "plt.title('Training and test loss')\n",
        "plt.xlabel('Epochs')\n",
        "plt.ylabel('Loss')\n",
        "plt.legend()\n",
        "plt.show()"
      ],
      "execution_count": 28,
      "outputs": [
        {
          "output_type": "display_data",
          "data": {
            "image/png": "[encoded data removed]",
            "text/plain": [
              "<Figure size 432x288 with 1 Axes>"
            ]
          },
          "metadata": {
            "tags": []
          }
        }
      ]
    },
    {
      "cell_type": "code",
      "metadata": {
        "id": "GdLaNB54WW_b",
        "colab_type": "code",
        "colab": {
          "base_uri": "https://localhost:8080/",
          "height": 302
        },
        "outputId": "4cec2642-c2c1-48ae-e7af-c7bf19fef531"
      },
      "source": [
        "acc_values = history_dict['acc']\n",
        "test_acc_values = history_dict['val_acc']\n",
        "\n",
        "plt.plot(epochs_range, acc_values, 'bo', label='Training accuracy')\n",
        "plt.plot(epochs_range, test_acc_values, 'ro', label='Test accuracy')\n",
        "plt.title('Training and test accuracy')\n",
        "plt.xlabel('Epochs')\n",
        "plt.ylabel('Accuracy')\n",
        "plt.legend()\n",
        "plt.show()"
      ],
      "execution_count": 29,
      "outputs": [
        {
          "output_type": "display_data",
          "data": {
            "image/png": "[encoded data removed]",
            "text/plain": [
              "<Figure size 432x288 with 1 Axes>"
            ]
          },
          "metadata": {
            "tags": []
          }
        }
      ]
    },
    {
      "cell_type": "markdown",
      "metadata": {
        "id": "8vtURyOSaUm7",
        "colab_type": "text"
      },
      "source": [
        "Another way the model could have perfromed poorly was by underfitting,or failing to have a high accuracy on the training dataset rather than the test dataset. This would indicate that the model was unable to relate the inputs to the output in a meaningful way. "
      ]
    },
    {
      "cell_type": "markdown",
      "metadata": {
        "id": "5oK1pS7IVR6W",
        "colab_type": "text"
      },
      "source": [
        "# 4.  Finetuning  a pretrained model (describe how you proceed)"
      ]
    },
    {
      "cell_type": "markdown",
      "metadata": {
        "id": "8FbLuRw5bXUv",
        "colab_type": "text"
      },
      "source": [
        "**Finetuning a Convolutional Neural Network**"
      ]
    },
    {
      "cell_type": "markdown",
      "metadata": {
        "id": "6iE2P4yPbk_C",
        "colab_type": "text"
      },
      "source": [
        "In order to prevent our model from overfitting, we can fine tune it using a number of strategies. The general way to combat overfitting is by making the model more specific and less flexible by experimenting with the number, size, and type of layers in the network's architeture"
      ]
    },
    {
      "cell_type": "code",
      "metadata": {
        "id": "B6vGsTXDbW0M",
        "colab_type": "code",
        "colab": {
          "base_uri": "https://localhost:8080/",
          "height": 425
        },
        "outputId": "556bb66c-ca70-4d24-e2a4-b6b2ff250dc8"
      },
      "source": [
        "model2 = models.Sequential()\n",
        "model2.add(layers.Conv2D(32, (3, 3), activation='relu', input_shape=(28, 28, 1)))\n",
        "model2.add(layers.MaxPooling2D((2, 2)))\n",
        "model2.add(layers.Conv2D(64, (3, 3), activation='relu'))\n",
        "model2.add(layers.MaxPooling2D(2, 2))\n",
        "model2.add(layers.Conv2D(64, (3, 3), activation='relu'))\n",
        "model2.add(layers.Flatten())\n",
        "model2.add(layers.Dense(64, activation='relu'))\n",
        "model2.add(layers.Dense(10, activation='softmax'))\n",
        "model2.summary()"
      ],
      "execution_count": 35,
      "outputs": [
        {
          "output_type": "stream",
          "text": [
            "Model: \"sequential_7\"\n",
            "_________________________________________________________________\n",
            "Layer (type)                 Output Shape              Param #   \n",
            "=================================================================\n",
            "conv2d_12 (Conv2D)           (None, 26, 26, 32)        320       \n",
            "_________________________________________________________________\n",
            "max_pooling2d_7 (MaxPooling2 (None, 13, 13, 32)        0         \n",
            "_________________________________________________________________\n",
            "conv2d_13 (Conv2D)           (None, 11, 11, 64)        18496     \n",
            "_________________________________________________________________\n",
            "max_pooling2d_8 (MaxPooling2 (None, 5, 5, 64)          0         \n",
            "_________________________________________________________________\n",
            "conv2d_14 (Conv2D)           (None, 3, 3, 64)          36928     \n",
            "_________________________________________________________________\n",
            "flatten_5 (Flatten)          (None, 576)               0         \n",
            "_________________________________________________________________\n",
            "dense_10 (Dense)             (None, 64)                36928     \n",
            "_________________________________________________________________\n",
            "dense_11 (Dense)             (None, 10)                650       \n",
            "=================================================================\n",
            "Total params: 93,322\n",
            "Trainable params: 93,322\n",
            "Non-trainable params: 0\n",
            "_________________________________________________________________\n"
          ],
          "name": "stdout"
        }
      ]
    },
    {
      "cell_type": "markdown",
      "metadata": {
        "id": "SM51UcNQen44",
        "colab_type": "text"
      },
      "source": [
        "This time around we have a lot more layers in our network architechure. We specifically added a layer type known as max pooling. It aims to reduce the number of parameters and computations in the network, thus being one method of reducing flexibility. There are many more ways to help a model fight overfitting, such as adding what is known as a dropout layer that will randomply ignore nodes in the network during a particular pass. That way they nodes are unable to be as dependent on one another when learning."
      ]
    },
    {
      "cell_type": "code",
      "metadata": {
        "id": "UMdgKGvQd-a1",
        "colab_type": "code",
        "colab": {
          "base_uri": "https://localhost:8080/",
          "height": 394
        },
        "outputId": "2da267df-6ad1-4e6f-dcee-da6dfe9ec651"
      },
      "source": [
        "model2.compile(optimizer='rmsprop', \n",
        "              loss='categorical_crossentropy', \n",
        "              metrics=['accuracy'])\n",
        "\n",
        "epochs = 10\n",
        "history = model2.fit(train_images, \n",
        "                    train_labels, \n",
        "                    epochs=epochs, \n",
        "                    batch_size=64,\n",
        "                    validation_data=(test_images, test_labels))"
      ],
      "execution_count": 31,
      "outputs": [
        {
          "output_type": "stream",
          "text": [
            "Train on 60000 samples, validate on 10000 samples\n",
            "Epoch 1/10\n",
            "60000/60000 [==============================] - 5s 86us/step - loss: 0.1682 - acc: 0.9476 - val_loss: 0.0838 - val_acc: 0.9734\n",
            "Epoch 2/10\n",
            "60000/60000 [==============================] - 5s 81us/step - loss: 0.0478 - acc: 0.9857 - val_loss: 0.0826 - val_acc: 0.9727\n",
            "Epoch 3/10\n",
            "60000/60000 [==============================] - 5s 81us/step - loss: 0.0323 - acc: 0.9902 - val_loss: 0.0370 - val_acc: 0.9894\n",
            "Epoch 4/10\n",
            "60000/60000 [==============================] - 5s 82us/step - loss: 0.0248 - acc: 0.9928 - val_loss: 0.0330 - val_acc: 0.9890\n",
            "Epoch 5/10\n",
            "60000/60000 [==============================] - 5s 82us/step - loss: 0.0196 - acc: 0.9944 - val_loss: 0.0267 - val_acc: 0.9919\n",
            "Epoch 6/10\n",
            "60000/60000 [==============================] - 5s 81us/step - loss: 0.0162 - acc: 0.9951 - val_loss: 0.0293 - val_acc: 0.9927\n",
            "Epoch 7/10\n",
            "60000/60000 [==============================] - 5s 80us/step - loss: 0.0133 - acc: 0.9958 - val_loss: 0.0333 - val_acc: 0.9915\n",
            "Epoch 8/10\n",
            "60000/60000 [==============================] - 5s 79us/step - loss: 0.0110 - acc: 0.9966 - val_loss: 0.0426 - val_acc: 0.9906\n",
            "Epoch 9/10\n",
            "60000/60000 [==============================] - 5s 80us/step - loss: 0.0103 - acc: 0.9971 - val_loss: 0.0343 - val_acc: 0.9921\n",
            "Epoch 10/10\n",
            "60000/60000 [==============================] - 5s 81us/step - loss: 0.0083 - acc: 0.9973 - val_loss: 0.0457 - val_acc: 0.9898\n"
          ],
          "name": "stdout"
        }
      ]
    },
    {
      "cell_type": "code",
      "metadata": {
        "id": "kw6MIu9reDhT",
        "colab_type": "code",
        "colab": {
          "base_uri": "https://localhost:8080/",
          "height": 302
        },
        "outputId": "b298f126-d119-403e-b078-d6ab91374eb0"
      },
      "source": [
        "history_dict = history.history\n",
        "loss_values = history_dict['loss']\n",
        "test_loss_values = history_dict['val_loss']\n",
        "epochs_range = range(1, epochs + 1)\n",
        "\n",
        "plt.plot(epochs_range, loss_values, 'bo', label='Training loss')\n",
        "plt.plot(epochs_range, test_loss_values, 'ro', label='Test loss')\n",
        "plt.title('Training and test loss')\n",
        "plt.xlabel('Epochs')\n",
        "plt.ylabel('Loss')\n",
        "plt.legend()\n",
        "plt.show()"
      ],
      "execution_count": 32,
      "outputs": [
        {
          "output_type": "display_data",
          "data": {
            "image/png": "[encoded data removed]",
            "text/plain": [
              "<Figure size 432x288 with 1 Axes>"
            ]
          },
          "metadata": {
            "tags": []
          }
        }
      ]
    },
    {
      "cell_type": "code",
      "metadata": {
        "id": "hb-pnYO6eH1v",
        "colab_type": "code",
        "colab": {
          "base_uri": "https://localhost:8080/",
          "height": 302
        },
        "outputId": "d7388f1d-4cd3-461a-981b-99eb1796bc04"
      },
      "source": [
        "acc_values = history_dict['acc']\n",
        "test_acc_values = history_dict['val_acc']\n",
        "\n",
        "plt.plot(epochs_range, acc_values, 'bo', label='Training accuracy')\n",
        "plt.plot(epochs_range, test_acc_values, 'ro', label='Test accuracy')\n",
        "plt.title('Training and test accuracy')\n",
        "plt.xlabel('Epochs')\n",
        "plt.ylabel('Accuracy')\n",
        "plt.legend()\n",
        "plt.show()"
      ],
      "execution_count": 33,
      "outputs": [
        {
          "output_type": "display_data",
          "data": {
            "image/png": "[encoded data removed]",
            "text/plain": [
              "<Figure size 432x288 with 1 Axes>"
            ]
          },
          "metadata": {
            "tags": []
          }
        }
      ]
    }
  ]
}